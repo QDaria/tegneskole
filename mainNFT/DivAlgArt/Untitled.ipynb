{
 "cells": [
  {
   "cell_type": "code",
   "execution_count": 26,
   "id": "b8fffae0",
   "metadata": {
    "ExecuteTime": {
     "end_time": "2022-04-13T02:43:14.171891Z",
     "start_time": "2022-04-13T02:43:07.223769Z"
    }
   },
   "outputs": [
    {
     "data": {
      "text/plain": [
       "<Figure size 204800x204800 with 0 Axes>"
      ]
     },
     "metadata": {},
     "output_type": "display_data"
    },
    {
     "data": {
      "image/png": "[encoded data removed]",
      "text/plain": [
       "<Figure size 432x288 with 1 Axes>"
      ]
     },
     "metadata": {
      "needs_background": "light"
     },
     "output_type": "display_data"
    }
   ],
   "source": [
    "import matplotlib.pyplot as plt\n",
    "import numpy as np\n",
    "from matplotlib.patches import Ellipse\n",
    "\n",
    "plt.figure(figsize=(2048, 2048), dpi=100)\n",
    "\n",
    "# Fixing random state for reproducibility\n",
    "np.random.seed(19680801)\n",
    "\n",
    "NUM = 250\n",
    "\n",
    "ells = [Ellipse(xy=np.random.rand(6) * 20,\n",
    "                width=1.9*np.random.rand(), height=2.2*np.random.rand(),\n",
    "                angle=1.2*np.random.rand() * 360)\n",
    "        for i in range(NUM)]\n",
    "\n",
    "fig, ax = plt.subplots(subplot_kw={'aspect': 'equal'})\n",
    "for e in ells:\n",
    "    ax.add_artist(e)\n",
    "    e.set_clip_box(ax.bbox)\n",
    "    e.set_alpha(np.random.rand())\n",
    "    e.set_facecolor(np.random.rand(3))\n",
    "\n",
    "#ax.set_xlim(0, 20)\n",
    "#ax.set_ylim(0, 20)\n",
    "\n",
    "#plt.savefig('ellipse1.png', dpi=300, transparent = True)plt.show()\n",
    "\n",
    "plt.savefig('myfig.png', bbox_inches='tight', transparent = True, dpi=1000)"
   ]
  },
  {
   "cell_type": "markdown",
   "id": "5efd3d5c",
   "metadata": {
    "ExecuteTime": {
     "end_time": "2022-04-13T02:26:32.969460Z",
     "start_time": "2022-04-13T02:26:32.952924Z"
    }
   },
   "source": [
    "# ??np.random.rand"
   ]
  },
  {
   "cell_type": "code",
   "execution_count": null,
   "id": "0502462c",
   "metadata": {},
   "outputs": [],
   "source": []
  },
  {
   "cell_type": "code",
   "execution_count": null,
   "id": "488bff22",
   "metadata": {},
   "outputs": [],
   "source": []
  },
  {
   "cell_type": "code",
   "execution_count": null,
   "id": "dd82b0e2",
   "metadata": {},
   "outputs": [],
   "source": []
  }
 ],
 "metadata": {
  "kernelspec": {
   "display_name": "Python pyc395",
   "language": "python",
   "name": "pyc395"
  },
  "language_info": {
   "codemirror_mode": {
    "name": "ipython",
    "version": 3
   },
   "file_extension": ".py",
   "mimetype": "text/x-python",
   "name": "python",
   "nbconvert_exporter": "python",
   "pygments_lexer": "ipython3",
   "version": "3.9.5"
  },
  "latex_envs": {
   "LaTeX_envs_menu_present": true,
   "autoclose": false,
   "autocomplete": true,
   "bibliofile": "biblio.bib",
   "cite_by": "apalike",
   "current_citInitial": 1,
   "eqLabelWithNumbers": true,
   "eqNumInitial": 1,
   "hotkeys": {
    "equation": "Ctrl-E",
    "itemize": "Ctrl-I"
   },
   "labels_anchors": false,
   "latex_user_defs": false,
   "report_style_numbering": false,
   "user_envs_cfg": false
  },
  "toc": {
   "base_numbering": 1,
   "nav_menu": {},
   "number_sections": true,
   "sideBar": true,
   "skip_h1_title": false,
   "title_cell": "Table of Contents",
   "title_sidebar": "Contents",
   "toc_cell": false,
   "toc_position": {},
   "toc_section_display": true,
   "toc_window_display": false
  }
 },
 "nbformat": 4,
 "nbformat_minor": 5
}
